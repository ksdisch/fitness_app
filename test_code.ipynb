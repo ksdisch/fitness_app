{
 "cells": [
  {
   "cell_type": "markdown",
   "id": "b91b1c8d",
   "metadata": {},
   "source": [
    "# Refactor this code for use in a flask app "
   ]
  },
  {
   "cell_type": "markdown",
   "id": "19e50622",
   "metadata": {},
   "source": [
    "#### Sheets API Documentation: https://developers.google.com/sheets/api/reference/rest"
   ]
  },
  {
   "cell_type": "code",
   "execution_count": null,
   "id": "138a2702",
   "metadata": {},
   "outputs": [],
   "source": []
  },
  {
   "cell_type": "code",
   "execution_count": 65,
   "id": "cee40ea3",
   "metadata": {
    "scrolled": true
   },
   "outputs": [
    {
     "name": "stdout",
     "output_type": "stream",
     "text": [
      "Date you exercised (MM-DD-YYYY): 01-09-2023\n",
      "Time your exercise began: 2:30 PM\n",
      "Time your exercise concluded: 3:00 PM\n",
      "What type of workout did you complete? (upper, lower, or running) upper\n",
      "How many different exercises did you complete during this workout?3\n",
      "Enter exercise: push-ups\n",
      "Enter the number of sets you completed for this exercise: 3\n",
      "Set 1 reps: 12\n",
      "Set 1 weight: body\n",
      "Set 2 reps: 12\n",
      "Set 2 weight: body\n",
      "Set 3 reps: 12\n",
      "Set 3 weight: body\n",
      "Enter exercise: chin-ups\n",
      "Enter the number of sets you completed for this exercise: 6\n",
      "Set 1 reps: 5\n",
      "Set 1 weight: body\n",
      "Set 2 reps: 5\n",
      "Set 2 weight: body\n",
      "Set 3 reps: 5\n",
      "Set 3 weight: body\n",
      "Set 4 reps: 5\n",
      "Set 4 weight: body\n",
      "Set 5 reps: 4\n",
      "Set 5 weight: body\n",
      "Set 6 reps: 4\n",
      "Set 6 weight: body\n",
      "Enter exercise: bench dips\n",
      "Enter the number of sets you completed for this exercise: 3\n",
      "Set 1 reps: 15\n",
      "Set 1 weight: body\n",
      "Set 2 reps: 15\n",
      "Set 2 weight: body\n",
      "Set 3 reps: 15\n",
      "Set 3 weight: body\n",
      "[['Workout date: 01-09-2023', 'upper', 'Start time2:30 PM', '3:00 PM', 'Exercise'], ['', '', '', '', 'push-ups', 12, 'body', 12, 'body', 12, 'body'], ['', '', '', '', 'chin-ups', 5, 'body', 5, 'body', 5, 'body', 5, 'body', 4, 'body', 4, 'body'], ['', '', '', '', 'bench dips', 15, 'body', 15, 'body', 15, 'body']]\n"
     ]
    }
   ],
   "source": [
    "# Enter workout into spreadsheet\n",
    "\n",
    "# Append to this list as user inputs exercise. This will be a list of \n",
    "# lists. Each list within is the data for a specific exercise\n",
    "# performed during the workout. Will be used with append method\n",
    "workout_data = []\n",
    "\n",
    "# TODO: Prompt user to enter a workout (give options for now, eventually could be a dropdown menu)\n",
    "# make this a dropdown menu or something else to make this easier \n",
    "\n",
    "# date and time of workout\n",
    "workout_date = f'Workout date: {input(\"Date you exercised (MM-DD-YYYY): \")}'\n",
    "time_start = f'Start Time: {input(\"Time your workout began: \")}'\n",
    "time_end = f'End Time: {input(\"Time your workout concluded: \")}'\n",
    "\n",
    "\n",
    "# MAKE A FUNCTION TO GET ALL WORKOUT DETAILS (all of the code below for gathering the details before logging it in the sheet)\n",
    "workout_type = f'{input(\"What type of workout did you complete? (upper body, lower body, core, flexibility, or cardio) \")}'\n",
    "\n",
    "if workout_type == 'upper body or workout_type == 'lower': # for strength training we ask for sets and reps versus running we will ask for time and distance\n",
    "#     HEADERS TO SEPARATE EACH WORKOUT\n",
    "    workout_data.append([workout_date, workout_type, time_start, time_end, \"Exercise\"])\n",
    "    \n",
    "    exercise_count = int(input('How many different exercises did you complete during this workout?'))    \n",
    "    for i in range(exercise_count):        \n",
    "    #     Have them input these details for now, can make it a drop down menu later\n",
    "        exercise_data = ['', '', '', '']\n",
    "        exercise_data.append(input(\"Enter exercise: \"))\n",
    "        num_sets = int(input(\"Enter the number of sets you completed for this exercise: \"))\n",
    "        for j in range(num_sets):\n",
    "#             get reps and weight for each set and add it to workout_data list\n",
    "#             reps\n",
    "            set_reps = int(input(f\"Set {j + 1} reps: \"))\n",
    "            exercise_data.append(set_reps)\n",
    "        \n",
    "#             weight\n",
    "            set_weight = input(f\"Set {j + 1} weight: \")\n",
    "    \n",
    "            if set_weight == \"body\":\n",
    "                exercise_data.append(set_weight)\n",
    "            else:\n",
    "                try:\n",
    "                    exercise_data.append(int(input(f\"Set {j + 1} weight: \")))\n",
    "                except:\n",
    "                    exercise_data.append(input(f\"Set {j + 1} weight: \"))  # for bodyweight exercises\n",
    "            j += 1\n",
    "        workout_data.append(exercise_data)\n",
    "        \n",
    "        \n",
    "\n",
    "# elif workout_type == 'running':\n",
    "    \n",
    "\n",
    "print(workout_data)\n",
    "# 12/25,12/25,10/30\n"
   ]
  },
  {
   "cell_type": "markdown",
   "id": "9c731f30",
   "metadata": {},
   "source": [
    "## Setting Up Google Sheets API"
   ]
  },
  {
   "cell_type": "code",
   "execution_count": 25,
   "id": "84e7455a",
   "metadata": {},
   "outputs": [],
   "source": [
    "from googleapiclient.discovery import build\n",
    "from google.oauth2 import service_account\n",
    "\n",
    "SERVICE_EMAIL = ' ksd-670@fitness-app-373902.iam.gserviceaccount.com'\n",
    "SCOPES = ['https://www.googleapis.com/auth/spreadsheets']\n",
    "SERVICE_ACCOUNT_FILE = 'keys.json'\n",
    "\n",
    "creds = None\n",
    "creds = service_account.Credentials.from_service_account_file(\n",
    "        SERVICE_ACCOUNT_FILE, scopes=SCOPES)\n",
    "\n",
    "\n",
    "# The ID and range of a spreadsheet (just the middle segment of the url of the sheet following /d/ and before /edit). # https://docs.google.com/spreadsheets/d/1NdDYk9YPxs-iXyAnXaXWAwlIXy1SckvfnVvHRYSafdg/edit#gid=0\n",
    "\n",
    "SPREADSHEET_ID = '1NdDYk9YPxs-iXyAnXaXWAwlIXy1SckvfnVvHRYSafdg'\n",
    "\n",
    "service = build('sheets', 'v4', credentials=creds)\n",
    "\n",
    "# Call the Sheets API\n",
    "sheet = service.spreadsheets()\n"
   ]
  },
  {
   "cell_type": "markdown",
   "id": "37b6d840",
   "metadata": {},
   "source": [
    "### Read Google Sheet Example"
   ]
  },
  {
   "cell_type": "code",
   "execution_count": 26,
   "id": "e23d1a00",
   "metadata": {},
   "outputs": [
    {
     "name": "stdout",
     "output_type": "stream",
     "text": [
      "[['date', 'start time', 'exercise', 'Reps - Set 1', 'Weight - Set 2', 'Reps - Set 1', 'Weight - Set 2', 'Reps - Set 3', 'Weight - Set 3'], ['01-06-2023', '2:30 PM', 'curls', '12', '25', '12', '25', '30', '8']]\n"
     ]
    }
   ],
   "source": [
    "# range is the same way you would select values in a spreadsheet\n",
    "result = sheet.values().get(spreadsheetId=SPREADSHEET_ID,\n",
    "                            range=\"upper!A1:I2\").execute()\n",
    "# A1:I2\n",
    "\n",
    "# this line of code tells the computer to get the values, \n",
    "# and if there are no values for that range, just return an empty list\n",
    "values = result.get('values', [])\n",
    "\n",
    "\n",
    "\n",
    "print(values)"
   ]
  },
  {
   "cell_type": "markdown",
   "id": "632f45c4",
   "metadata": {},
   "source": [
    "### Write to Google Sheet Example"
   ]
  },
  {
   "cell_type": "code",
   "execution_count": 66,
   "id": "f97885ed",
   "metadata": {},
   "outputs": [
    {
     "name": "stdout",
     "output_type": "stream",
     "text": [
      "{'spreadsheetId': '1NdDYk9YPxs-iXyAnXaXWAwlIXy1SckvfnVvHRYSafdg',\n",
      " 'updates': {'spreadsheetId': '1NdDYk9YPxs-iXyAnXaXWAwlIXy1SckvfnVvHRYSafdg',\n",
      "             'updatedCells': 44,\n",
      "             'updatedColumns': 17,\n",
      "             'updatedRange': 'upper!A1:Q4',\n",
      "             'updatedRows': 4}}\n"
     ]
    }
   ],
   "source": [
    "from pprint import pprint\n",
    "# TODO: Enter exercise, sets, reps, and date as a row into proper sheet \n",
    "\n",
    "#.append(): appends values to a spreadsheet\n",
    "\n",
    "\n",
    "resource = {\n",
    "    'majorDimension': \"ROWS\",\n",
    "    'values': workout_data #needs to be 2D array (list of lists (with each nested list being a row of values))\n",
    "# workout header: make the first of the list of values in workout_data the day, start-time- and end time\n",
    "# column headers     \n",
    "}\n",
    "\n",
    "SPREADSHEET_ID = '1NdDYk9YPxs-iXyAnXaXWAwlIXy1SckvfnVvHRYSafdg'\n",
    "range_param = \"upper!A:A\" # just tells api which column to start the new row\n",
    "result = sheet.values().append(\n",
    "    spreadsheetId=SPREADSHEET_ID, \n",
    "    range= range_param, \n",
    "    body=resource,\n",
    "    valueInputOption='USER_ENTERED'\n",
    ").execute()\n",
    "\n",
    "pprint(result)\n",
    "\n",
    "\n",
    "# .update(): Sets values in a range of a spreadsheet\n",
    "\n",
    "\n"
   ]
  },
  {
   "cell_type": "code",
   "execution_count": null,
   "id": "b9c1aa0e",
   "metadata": {},
   "outputs": [],
   "source": []
  }
 ],
 "metadata": {
  "kernelspec": {
   "display_name": "Python 3 (ipykernel)",
   "language": "python",
   "name": "python3"
  },
  "language_info": {
   "codemirror_mode": {
    "name": "ipython",
    "version": 3
   },
   "file_extension": ".py",
   "mimetype": "text/x-python",
   "name": "python",
   "nbconvert_exporter": "python",
   "pygments_lexer": "ipython3",
   "version": "3.9.12"
  }
 },
 "nbformat": 4,
 "nbformat_minor": 5
}
